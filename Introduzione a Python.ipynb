{
 "cells": [
  {
   "cell_type": "markdown",
   "id": "be747854",
   "metadata": {},
   "source": [
    "# Introduzione a Python\n"
   ]
  },
  {
   "cell_type": "markdown",
   "id": "7adc26f8",
   "metadata": {},
   "source": [
    "## Sintassi base\n",
    "\n",
    "L'indentazione all'interno di Python definisce blocchi di codice\n"
   ]
  },
  {
   "cell_type": "code",
   "execution_count": 1,
   "id": "edfa4f97",
   "metadata": {},
   "outputs": [
    {
     "ename": "IndentationError",
     "evalue": "unexpected indent (3164366363.py, line 2)",
     "output_type": "error",
     "traceback": [
      "\u001b[0;36m  File \u001b[0;32m\"/var/folders/tk/xrnn_2mx15s22zf9gfnz587c0000gn/T/ipykernel_1280/3164366363.py\"\u001b[0;36m, line \u001b[0;32m2\u001b[0m\n\u001b[0;31m    print(\"Errore, il print è indentato male\")\u001b[0m\n\u001b[0m    ^\u001b[0m\n\u001b[0;31mIndentationError\u001b[0m\u001b[0;31m:\u001b[0m unexpected indent\n"
     ]
    }
   ],
   "source": [
    "print(\"Stampa questo messaggio\")\n",
    "  print(\"Errore, il print è indentato male\")\n"
   ]
  },
  {
   "cell_type": "markdown",
   "id": "761cd750",
   "metadata": {},
   "source": [
    "E' possibile creare commenti all'interno di pyton adoperando il simbolo `#`"
   ]
  },
  {
   "cell_type": "code",
   "execution_count": 2,
   "id": "27abe703",
   "metadata": {},
   "outputs": [
    {
     "name": "stdout",
     "output_type": "stream",
     "text": [
      "2\n"
     ]
    }
   ],
   "source": [
    "# Stampa il numero 2\n",
    "print(2)\n"
   ]
  },
  {
   "cell_type": "markdown",
   "id": "c52d15e7",
   "metadata": {},
   "source": [
    "E' possibile dividere su più righe una stessa istruzione che risulta essere molto lunga, non è un approccio consigliato in quanto va a intaccare quella che è la leggibilità di una porzione di codice.\n",
    "Per effettuare tale separazione si adopera il simbolo `\\`\n"
   ]
  },
  {
   "cell_type": "code",
   "execution_count": 5,
   "id": "a35065a7",
   "metadata": {},
   "outputs": [
    {
     "data": {
      "text/plain": [
       "55"
      ]
     },
     "execution_count": 5,
     "metadata": {},
     "output_type": "execute_result"
    }
   ],
   "source": [
    "istruzione_abbastanza_lunga = 1 + 2 + 3 + 4 \\\n",
    "                                    + 5 + 6 + 7 + 8 \\\n",
    "                                        + 9 + 10"
   ]
  },
  {
   "cell_type": "markdown",
   "id": "4d91c004",
   "metadata": {},
   "source": [
    "Possiamo in alternativa scrivere più istruzioni sulla stella linea adoperando il punto e virgola : `;`"
   ]
  },
  {
   "cell_type": "code",
   "execution_count": 6,
   "id": "1073dbac",
   "metadata": {},
   "outputs": [
    {
     "name": "stdout",
     "output_type": "stream",
     "text": [
      "Hello \n",
      "World!\n"
     ]
    }
   ],
   "source": [
    "print(\"Hello \"); print(\"World!\")"
   ]
  },
  {
   "cell_type": "markdown",
   "id": "3bbfb7a5",
   "metadata": {},
   "source": [
    "Solitamente anche questa non è una buona idea"
   ]
  },
  {
   "cell_type": "markdown",
   "id": "929898e1",
   "metadata": {},
   "source": [
    "## Variabili\n",
    "\n",
    "All'interno di Python le variabili sono create nel momento in cui queste sono inizializzate:"
   ]
  },
  {
   "cell_type": "code",
   "execution_count": 7,
   "id": "2c7be08b",
   "metadata": {},
   "outputs": [],
   "source": [
    "foo = 1\n",
    "bar = \"aaa\"\n",
    "baz = 4.56"
   ]
  },
  {
   "cell_type": "markdown",
   "id": "88900dfc",
   "metadata": {},
   "source": [
    "I nomi di variabile possono iniziare con una lettera o con un underscore, in generale sono accettati caratteri appartenenti ad una codifica unicode.\n",
    "Tuttle le variabili create *al di fuori* di una funzione sono considerate come globali ( raggiungibili da qualsiasi parte del programma), mentre, nel caso contrario, vengono chiamate variabili locali.\n"
   ]
  },
  {
   "cell_type": "code",
   "execution_count": 9,
   "id": "c4ec1b73",
   "metadata": {},
   "outputs": [],
   "source": [
    "x = \"b\" # Variabile globale\n",
    "\n",
    "def fun():\n",
    "    a = 3 # Variabile locale\n",
    "    return a + 3\n"
   ]
  },
  {
   "cell_type": "markdown",
   "id": "a8d324c8",
   "metadata": {},
   "source": [
    "Nell'esempio la variavile `x` è raggiungibile all'interno delle funzione `fun`, mentre la variavile `a` può essere referenziata solamente all'interno della funzione che la definisce. E' possibile però creare una variabile globale all'interno di una funzione adoperando la keyword `global`\n"
   ]
  },
  {
   "cell_type": "code",
   "execution_count": 14,
   "id": "f80ef7a1",
   "metadata": {},
   "outputs": [],
   "source": [
    "def global_var():\n",
    "    global my_global_var    # Definisco la variabile come globale\n",
    "    my_global_var = \"Yai!\"  # Le assegno un valore \n",
    "    # Altri calcoli"
   ]
  },
  {
   "cell_type": "markdown",
   "id": "dee256ea",
   "metadata": {},
   "source": [
    "Possiamo assegnare lo stesso valore a più variabili contemporaneamente:"
   ]
  },
  {
   "cell_type": "code",
   "execution_count": 16,
   "id": "144ed828",
   "metadata": {},
   "outputs": [
    {
     "name": "stdout",
     "output_type": "stream",
     "text": [
      "99\n",
      "99\n",
      "99\n"
     ]
    }
   ],
   "source": [
    "x = y = z = 99\n",
    "print(x)\n",
    "print(y)\n",
    "print(z)"
   ]
  },
  {
   "cell_type": "markdown",
   "id": "c4bec4c1",
   "metadata": {},
   "source": [
    "Possiamo assegnare in una singola linea più valori a variabili diverse: "
   ]
  },
  {
   "cell_type": "code",
   "execution_count": 17,
   "id": "c95f58dc",
   "metadata": {},
   "outputs": [
    {
     "name": "stdout",
     "output_type": "stream",
     "text": [
      "9\n",
      "10\n",
      "11\n"
     ]
    }
   ],
   "source": [
    "x,y,z = (9, 10 , 11)\n",
    "print(x)\n",
    "print(y)\n",
    "print(z)"
   ]
  },
  {
   "cell_type": "markdown",
   "id": "096d22ff",
   "metadata": {},
   "source": [
    "Ogni variabile contiene un dato di un determinato tipo. Quest'ultimo è determinato solamente al momento dell'assegnazione. \n",
    "I tipi predefiniti di Python sono:\n",
    "* Testo : str\n",
    "* Numeri: int, float, complex\n",
    "* Sequenze: list, tuple, range\n",
    "* Dizionari: dict\n",
    "* Insiemi: set, frozenset\n",
    "* Booleani: bool \n",
    "* Binari: bytes, bytearray, memoryview\n",
    "\n",
    "Tramite la funzione type() è possibile ottenere il tipo di una variabile"
   ]
  },
  {
   "cell_type": "code",
   "execution_count": 19,
   "id": "f38eb76b",
   "metadata": {},
   "outputs": [
    {
     "name": "stdout",
     "output_type": "stream",
     "text": [
      "<class 'int'>\n",
      "<class 'complex'>\n"
     ]
    }
   ],
   "source": [
    "integer = 1 # int\n",
    "print(type(integer))\n",
    "\n",
    "cmpx = 1j # complex\n",
    "print(type(cmpx))\n"
   ]
  },
  {
   "cell_type": "markdown",
   "id": "1ad5eb8f",
   "metadata": {},
   "source": [
    "In Python qualunque dato è un oggetto. Ciascuno di questi è determinato da un tipo, un identità ed un valore.\n",
    "* Il tipo determina le operazioni supportate dall'oggetto\n",
    "* L'Identità non cambia durante la vita dell'oggetto \n",
    "* Gli oggetti per il quale il valore può cambiare vengono definiti \"mutabili\", gli oggetti per il quale il valore non può cambiare sono detti \"immutabili\"\n",
    "* Il tipo determina se un oggetto è mutabile o immutabile\n",
    "\n",
    "Ciascuna variabile è un riferimento ad un oggetto\n",
    "\n",
    "All'interno di Python ci sono alcuni oggetti predefiniti:\n",
    "* None : Rappresenta l'assenza di valore\n",
    "* Ellipsis: può essere indicato con la sintassi `...`\n",
    "* NotImplemented: Indica che un'operazione non è disponibile poichè non implementata"
   ]
  },
  {
   "cell_type": "markdown",
   "id": "4b556060",
   "metadata": {},
   "source": [
    "## Stringhe\n",
    "\n",
    "Le stringhe sono una sequenza di caratteri di tipo unicode. Possiamo definirle in vari modi :"
   ]
  },
  {
   "cell_type": "code",
   "execution_count": 20,
   "id": "382122fb",
   "metadata": {},
   "outputs": [],
   "source": [
    "a = 'Sono una stringa'\n",
    "b = \"Sono una stringa anch'io\"\n",
    "c = \"\"\"\n",
    "Anche io sono una stringa definita però\n",
    "su più righe\n",
    "\"\"\""
   ]
  },
  {
   "cell_type": "markdown",
   "id": "9cac0f0c",
   "metadata": {},
   "source": [
    "Possiamo accedere ai singoli caratteri utilizzando la notazione ad array "
   ]
  },
  {
   "cell_type": "code",
   "execution_count": 21,
   "id": "43b9cd2e",
   "metadata": {},
   "outputs": [
    {
     "name": "stdout",
     "output_type": "stream",
     "text": [
      "o\n"
     ]
    }
   ],
   "source": [
    "print(a[1])"
   ]
  },
  {
   "cell_type": "markdown",
   "id": "4377b2c3",
   "metadata": {},
   "source": [
    "Possiamo concatenare insieme più stringhe tramite l'operatore somma `+`"
   ]
  },
  {
   "cell_type": "code",
   "execution_count": 22,
   "id": "b5d4ac41",
   "metadata": {},
   "outputs": [
    {
     "name": "stdout",
     "output_type": "stream",
     "text": [
      "Hello, World !\n"
     ]
    }
   ],
   "source": [
    "print(\"Hello, \" + \"World !\")"
   ]
  },
  {
   "cell_type": "markdown",
   "id": "97fc8369",
   "metadata": {},
   "source": [
    "Tramite la funzione `len()` possiamo ottenere la lunghezza di una stringa"
   ]
  },
  {
   "cell_type": "code",
   "execution_count": 23,
   "id": "4d79f6d4",
   "metadata": {},
   "outputs": [
    {
     "data": {
      "text/plain": [
       "16"
      ]
     },
     "execution_count": 23,
     "metadata": {},
     "output_type": "execute_result"
    }
   ],
   "source": [
    "len(a) # 16"
   ]
  },
  {
   "cell_type": "markdown",
   "id": "1aa3c02f",
   "metadata": {},
   "source": [
    "Tramite le formatted string literals è possibile inserire all'interno di una stringa ( in maniera formattata ) i valori delle variabili"
   ]
  },
  {
   "cell_type": "code",
   "execution_count": 26,
   "id": "9ba0710e",
   "metadata": {},
   "outputs": [
    {
     "name": "stdout",
     "output_type": "stream",
     "text": [
      "Il valore di a è: 'Sono una stringa'\n"
     ]
    }
   ],
   "source": [
    "formatted = f\"Il valore di a è: '{a}'\"\n",
    "print(formatted)"
   ]
  },
  {
   "cell_type": "markdown",
   "id": "e3785c5a",
   "metadata": {},
   "source": [
    "## Valori Booleani\n",
    "\n",
    "Python mette a disposizione due valori booleani `True` e `False`. Ogni operazione di confronto di Python restituisce un valore booleano. \n"
   ]
  },
  {
   "cell_type": "code",
   "execution_count": 27,
   "id": "d5dbd48d",
   "metadata": {},
   "outputs": [
    {
     "name": "stdout",
     "output_type": "stream",
     "text": [
      "False\n",
      "True\n",
      "False\n"
     ]
    }
   ],
   "source": [
    "print(9 < 3)\n",
    "print(100 >= 100)\n",
    "print(\"ciao\" == \"mondo\")"
   ]
  },
  {
   "cell_type": "markdown",
   "id": "a2d13630",
   "metadata": {},
   "source": [
    "Ogni variabile può essere convertita in un valore booleano tramite la funzione `bool()`.\n"
   ]
  },
  {
   "cell_type": "markdown",
   "id": "57641158",
   "metadata": {},
   "source": [
    "## if/elif/else\n"
   ]
  },
  {
   "cell_type": "code",
   "execution_count": 28,
   "id": "5637684d",
   "metadata": {},
   "outputs": [
    {
     "name": "stdout",
     "output_type": "stream",
     "text": [
      "b è minore di a\n",
      "b < a\n"
     ]
    }
   ],
   "source": [
    "a = 100\n",
    "b = 1\n",
    "\n",
    "if b < a:\n",
    "    print(\"b è minore di a\")\n",
    "elif a == b:\n",
    "    print(\"a e b sono uguali\")\n",
    "else: \n",
    "    print(\"b è maggiore di a\")\n",
    "\n",
    "# Possibile anche sintassi su singola linea\n",
    "print(\"b < a\" if b < a else \"b == a\" if b == a else \"b > a\")\n"
   ]
  },
  {
   "cell_type": "markdown",
   "id": "d6c7bf9c",
   "metadata": {},
   "source": [
    "Nota: l'operatore `==` ritorna `True` se gli operandi possiedono un valore uguale mentre `is` ritorna `True` se e solo se i due operandi sono lo stesso oggetto. "
   ]
  },
  {
   "cell_type": "markdown",
   "id": "06be777d",
   "metadata": {},
   "source": [
    "## Cicli\n",
    "\n",
    "### while\n",
    "Esegue un blocco di codice finchè una condizione risulta `True`\n",
    "\n"
   ]
  },
  {
   "cell_type": "code",
   "execution_count": 1,
   "id": "34da68df",
   "metadata": {},
   "outputs": [
    {
     "name": "stdout",
     "output_type": "stream",
     "text": [
      "10\n"
     ]
    }
   ],
   "source": [
    "a = 0\n",
    "while a < 10:\n",
    "    a += 2\n",
    "\n",
    "print(a)"
   ]
  },
  {
   "cell_type": "markdown",
   "id": "04a78970",
   "metadata": {},
   "source": [
    "Possibile aggiugere clausola `else` al ciclo while che esegue delle istruzioni al raggiungimento della falsità della condizione."
   ]
  },
  {
   "cell_type": "code",
   "execution_count": 5,
   "id": "450b0387",
   "metadata": {},
   "outputs": [
    {
     "name": "stdout",
     "output_type": "stream",
     "text": [
      "Ciclo terminato\n",
      "10\n"
     ]
    }
   ],
   "source": [
    "a = 0\n",
    "while a < 10:\n",
    "    a += 2\n",
    "else: \n",
    "    print(\"Ciclo terminato\")\n",
    "\n",
    "print(a)"
   ]
  },
  {
   "cell_type": "markdown",
   "id": "625ff129",
   "metadata": {},
   "source": [
    "### for..in\n",
    "Ciclo for che itera all'interno su una sequenza di valori"
   ]
  },
  {
   "cell_type": "code",
   "execution_count": 7,
   "id": "fbe74037",
   "metadata": {},
   "outputs": [
    {
     "name": "stdout",
     "output_type": "stream",
     "text": [
      "a\n",
      "b\n",
      "c\n",
      "H\n",
      "e\n",
      "l\n",
      "l\n",
      "o\n",
      ",\n",
      " \n",
      "W\n",
      "o\n",
      "r\n",
      "l\n",
      "d\n",
      "0\n",
      "1\n",
      "2\n",
      "3\n",
      "4\n",
      "5\n",
      "6\n",
      "7\n",
      "8\n"
     ]
    }
   ],
   "source": [
    "values = [\"a\",\"b\",\"c\"]\n",
    "# Itera sugli elementi della lista values \n",
    "for i in values:\n",
    "    print(i)\n",
    "\n",
    "# Itera su i singoli caratteri di una stringa di testo\n",
    "for i in \"Hello, World\":\n",
    "    print(i)\n",
    "\n",
    "# Utilizzo di range(), funzione che crea un oggetto iterabile di valori numerici\n",
    "# in questo caso da 0 a 8 \n",
    "for i in range(9):\n",
    "    print(i)\n"
   ]
  },
  {
   "cell_type": "markdown",
   "id": "fb5d046a",
   "metadata": {},
   "source": [
    "E' possibile inoltre specificare parametri di start, stop e step per la funzione di step()"
   ]
  },
  {
   "cell_type": "code",
   "execution_count": 10,
   "id": "eb6f01e6",
   "metadata": {},
   "outputs": [
    {
     "name": "stdout",
     "output_type": "stream",
     "text": [
      "0\n",
      "3\n",
      "6\n",
      "9\n"
     ]
    }
   ],
   "source": [
    "start = 0 # Valore di partenza per il range (incluso nella sequenza)\n",
    "stop = 10 # Valore finale per il range (escluso nella sequenza)\n",
    "step = 3 # indica il distacco tra i vari valori\n",
    "\n",
    "for i in range(start, stop, step):\n",
    "    print(i)\n"
   ]
  },
  {
   "cell_type": "markdown",
   "id": "c3e50434",
   "metadata": {},
   "source": [
    "## Liste\n",
    "\n",
    "Una lista in Python è un elenco ordinato di valori i quali possono presentarsi più volte al suo interno"
   ]
  },
  {
   "cell_type": "code",
   "execution_count": 12,
   "id": "abdfa67d",
   "metadata": {},
   "outputs": [
    {
     "name": "stdout",
     "output_type": "stream",
     "text": [
      "[1, 2, 3]\n",
      "<class 'list'> 3\n"
     ]
    }
   ],
   "source": [
    "values = [1,2,3]\n",
    "print(values)\n",
    "print(type(values), len(values))"
   ]
  },
  {
   "cell_type": "markdown",
   "id": "e460ec2a",
   "metadata": {},
   "source": [
    "Possibile creare una lista tramite parentesi quadrate `[]` o con il costrutto `list()` o con list comprehension"
   ]
  },
  {
   "cell_type": "code",
   "execution_count": 13,
   "id": "6e1890a6",
   "metadata": {},
   "outputs": [
    {
     "name": "stdout",
     "output_type": "stream",
     "text": [
      "[1, 4, 7, 10, 13, 16, 19, 22, 25]\n",
      "[4, 10, 16, 22]\n"
     ]
    }
   ],
   "source": [
    "values = list(range(1,28,3))\n",
    "values_with_comprehension = [x for x in values if x % 2 == 0] # Seleziona solamente gli elementi pari della lista\n",
    "print(values)\n",
    "print(values_with_comprehension)\n"
   ]
  },
  {
   "cell_type": "markdown",
   "id": "2d8b8293",
   "metadata": {},
   "source": [
    "L'accesso agli elementi di una lista è possibile attraverso la notazione con le parentesi quadre o tramite slicing"
   ]
  },
  {
   "cell_type": "code",
   "execution_count": 15,
   "id": "044c420d",
   "metadata": {},
   "outputs": [
    {
     "name": "stdout",
     "output_type": "stream",
     "text": [
      "1\n",
      "[1, 4]\n",
      "[1, 10, 19]\n"
     ]
    }
   ],
   "source": [
    "print(values[0])     # First element\n",
    "print(values[0:2])   # First and second element \n",
    "print(values[0::3])  # All elements with step 3 ( 1, 10, 19)"
   ]
  },
  {
   "cell_type": "markdown",
   "id": "2e8a2596",
   "metadata": {},
   "source": [
    "Sono possibili operazioni tra due liste\n",
    "* `+`: concatenazione\n",
    "* `*`: ripetizione di valori"
   ]
  },
  {
   "cell_type": "code",
   "execution_count": 16,
   "id": "24c4e518",
   "metadata": {
    "scrolled": true
   },
   "outputs": [
    {
     "data": {
      "text/plain": [
       "[1, 2, 3, 4, 5, 6]"
      ]
     },
     "execution_count": 16,
     "metadata": {},
     "output_type": "execute_result"
    }
   ],
   "source": [
    "[1,2,3] + [4,5,6]"
   ]
  },
  {
   "cell_type": "code",
   "execution_count": 18,
   "id": "576b80f7",
   "metadata": {},
   "outputs": [
    {
     "data": {
      "text/plain": [
       "[1, 2, 3, 1, 2, 3]"
      ]
     },
     "execution_count": 18,
     "metadata": {},
     "output_type": "execute_result"
    }
   ],
   "source": [
    "[1,2,3] * 2"
   ]
  },
  {
   "cell_type": "markdown",
   "id": "7a97d55e",
   "metadata": {},
   "source": [
    "Controllo di appartenenza ad una lista tramite operatore `in`"
   ]
  },
  {
   "cell_type": "code",
   "execution_count": 21,
   "id": "2cb2f200",
   "metadata": {},
   "outputs": [
    {
     "name": "stdout",
     "output_type": "stream",
     "text": [
      "True\n",
      "True\n",
      "False\n"
     ]
    }
   ],
   "source": [
    "print(4 in [1,2,3,4]) # True\n",
    "print(2 not in [10, 11, 100]) # True\n",
    "print(3 in [4,5,6]) # False"
   ]
  },
  {
   "cell_type": "markdown",
   "id": "4be19ffd",
   "metadata": {},
   "source": [
    "## Tuple\n",
    "Una tupla in Python è un elenco ordinato e non modificabile di valori che può presentare dei duplicati al suo interno. \n",
    "Per creare una nuova tupla si può adoperare la sintassi con le parentesi tonde o il costruttore tuple()"
   ]
  },
  {
   "cell_type": "code",
   "execution_count": 6,
   "id": "d1fe2635",
   "metadata": {},
   "outputs": [
    {
     "name": "stdout",
     "output_type": "stream",
     "text": [
      "(1, 2, 3)\n",
      "(1, 6, 11, 16, 21, 26, 31, 36, 41, 46, 51, 56, 61, 66, 71, 76, 81, 86, 91, 96)\n"
     ]
    }
   ],
   "source": [
    "my_tuple = (1,2,3)\n",
    "my_other_tuple = tuple(range(1, 100, 5))\n",
    "print(my_tuple)\n",
    "print(my_other_tuple)"
   ]
  },
  {
   "cell_type": "markdown",
   "id": "7a484617",
   "metadata": {},
   "source": [
    "L'accesso agli elementi di una tupla avviene, analogamente alle liste, attraverso l'operatore parentesi quadre oppure, in alternativa, attraverso lo slicing"
   ]
  },
  {
   "cell_type": "code",
   "execution_count": 8,
   "id": "f770c2dc",
   "metadata": {},
   "outputs": [
    {
     "name": "stdout",
     "output_type": "stream",
     "text": [
      "2\n",
      "(16, 26, 36)\n"
     ]
    }
   ],
   "source": [
    "print(my_tuple[1])           # seleziona il secondo elemento della tupla my_tuple\n",
    "print(my_other_tuple[3:9:2]) # Seleziona dal quarto all'ottavo elemento della tupla my_other_tuple con step 2\n"
   ]
  },
  {
   "cell_type": "markdown",
   "id": "ccd34a79",
   "metadata": {},
   "source": [
    "Altri esempi di tupla "
   ]
  },
  {
   "cell_type": "code",
   "execution_count": 18,
   "id": "55e73b9b",
   "metadata": {},
   "outputs": [
    {
     "name": "stdout",
     "output_type": "stream",
     "text": [
      "<class 'tuple'>\n",
      "<class 'int'>\n"
     ]
    }
   ],
   "source": [
    "t1 = (3,)    # questa è una tupla (nota la virgola)\n",
    "o_t1 = (3)   # questo è un intero \n",
    "\n",
    "print(type(t1))\n",
    "print(type(o_t1))"
   ]
  },
  {
   "cell_type": "markdown",
   "id": "da84049f",
   "metadata": {},
   "source": [
    "Operatori `+` e `*` analoghi al caso delle liste di elementi"
   ]
  },
  {
   "cell_type": "code",
   "execution_count": 13,
   "id": "e7bfe61f",
   "metadata": {},
   "outputs": [
    {
     "name": "stdout",
     "output_type": "stream",
     "text": [
      "(1, 2, 3, 3, 4, 5)\n",
      "(1, 2, 3, 1, 2, 3, 1, 2, 3)\n"
     ]
    }
   ],
   "source": [
    "print((1,2,3) + (3,4,5))    # concatena le due tuple (1,2,3) e (3,4,5)\n",
    "print((1,2,3) * 3)          # ripetizione degli elementi della tupla (1,2,3) per 3 volte"
   ]
  },
  {
   "cell_type": "markdown",
   "id": "500b9919",
   "metadata": {},
   "source": [
    "Assegnazione più variabili, vista in precedenza, è effettuata attraverso le tuple:"
   ]
  },
  {
   "cell_type": "code",
   "execution_count": 17,
   "id": "ba4a439c",
   "metadata": {},
   "outputs": [
    {
     "name": "stdout",
     "output_type": "stream",
     "text": [
      "a 1 True\n"
     ]
    }
   ],
   "source": [
    "a,b,c = ('a', 1, True)\n",
    "print(a,b,c)"
   ]
  },
  {
   "cell_type": "markdown",
   "id": "19c60292",
   "metadata": {},
   "source": [
    "In alternativa è possibile omettere le parentesi tonde : "
   ]
  },
  {
   "cell_type": "code",
   "execution_count": null,
   "id": "6acd4901",
   "metadata": {},
   "outputs": [],
   "source": [
    "a,b,c = 'a', 1, True"
   ]
  },
  {
   "cell_type": "markdown",
   "id": "f136830f",
   "metadata": {},
   "source": [
    "## Slicing\n",
    "Permette di selezionare un range di elementi."
   ]
  },
  {
   "cell_type": "code",
   "execution_count": 18,
   "id": "85f3d142",
   "metadata": {},
   "outputs": [
    {
     "name": "stdout",
     "output_type": "stream",
     "text": [
      "(0, 1, 2, 3, 4, 5, 6, 7, 8, 9, 10, 11, 12, 13, 14, 15, 16, 17, 18, 19, 20, 21, 22, 23, 24, 25, 26, 27, 28, 29, 30, 31, 32, 33, 34, 35, 36, 37, 38, 39)\n",
      "(0, 2, 4, 6, 8, 10, 12, 14, 16, 18, 20, 22, 24, 26, 28, 30, 32, 34, 36, 38)\n"
     ]
    },
    {
     "data": {
      "text/plain": [
       "(3, 4, 5)"
      ]
     },
     "execution_count": 18,
     "metadata": {},
     "output_type": "execute_result"
    }
   ],
   "source": [
    "my_tuple = tuple(range(0,100))\n",
    "print(my_tuple[0:40])   # Seleziona tutti gli elementi my_typle[k] dove 0 <= k <40\n",
    "print(my_tuple[0:40:2]) # Come sopra ma prende un elemnto ogni due\n",
    "my_tuple[3:-94]   # E' possibile specificare indici negativi ai quali verrà sommata la lunghezza della lista"
   ]
  },
  {
   "cell_type": "markdown",
   "id": "442ba256",
   "metadata": {},
   "source": [
    "Lo slicing non serve solamente per ottenere determinati valori di un array ma anche per valorizzare alcune posizioni di questo:"
   ]
  },
  {
   "cell_type": "code",
   "execution_count": 25,
   "id": "cbc2cc39",
   "metadata": {},
   "outputs": [
    {
     "name": "stdout",
     "output_type": "stream",
     "text": [
      "[-1, 1, -1, 3, -1, 5, -1, 7, -1, 9, -1, 11, -1, 13, -1, 15, -1, 17, -1, 19, -1, 21, -1, 23, -1, 25, -1, 27, -1, 29, -1, 31, -1, 33, -1, 35, -1, 37, -1, 39, -1, 41, -1, 43, -1, 45, -1, 47, -1, 49, -1, 51, -1, 53, -1, 55, -1, 57, -1, 59, -1, 61, -1, 63, -1, 65, -1, 67, -1, 69, -1, 71, -1, 73, -1, 75, -1, 77, -1, 79, -1, 81, -1, 83, -1, 85, -1, 87, -1, 89, -1, 91, -1, 93, -1, 95, -1, 97, -1, 99]\n"
     ]
    }
   ],
   "source": [
    "my_list = list(range(0, 100))\n",
    "my_list[0:100:2] = [-1] * 50\n",
    "print(my_list)"
   ]
  },
  {
   "cell_type": "markdown",
   "id": "95c9aa09",
   "metadata": {},
   "source": [
    "E' possibile non specificare alcun indice all'interno di una selezione slicing: \n",
    "* - my[:a] : si intende che l'indice di sinistra è lo 0\n",
    "* - my[a:] : si intende che l'indice di destra è la lunghezza dell'array\n",
    "* - my[::] : l'indice di destra è la lunghezza dell'array, l'indice di sinistra è lo 0, lo step è 1"
   ]
  },
  {
   "cell_type": "markdown",
   "id": "0433d077",
   "metadata": {},
   "source": [
    "## Insiemi\n",
    "Collezione non ordinata di elementi, non accetta duplicati. \n",
    "* Posso aggiungere o rimuovere elementi.\n",
    "* Non posso modificare elementi\n",
    "\n"
   ]
  },
  {
   "cell_type": "code",
   "execution_count": 29,
   "id": "256fd0d8",
   "metadata": {},
   "outputs": [
    {
     "name": "stdout",
     "output_type": "stream",
     "text": [
      "{'Red', 'Green', 'White'}\n",
      "{256, 1024, 2304, 4096, 4, 900, 1156, 3844, 4356, 6400, 8836, 9604, 16, 144, 400, 784, 1296, 1936, 2704, 3600, 4624, 5776, 9216, 36, 676, 1444, 3364, 4900, 8100, 7056, 7744, 64, 576, 1600, 3136, 196, 324, 2116, 2500, 5184, 6084, 6724, 8464, 100, 484, 1764, 2916, 5476, 7396}\n"
     ]
    }
   ],
   "source": [
    "my_set = {\"Red\", \"Green\", \"White\"}\n",
    "my_set = set([\"Red\", \"Green\", \"White\", \"Red\"]) # I valori duplicati sono ignorati\n",
    "print(my_set)\n",
    "my_set_comprehension = {x ** 2 for x in range(2, 100) if x % 2 == 0}\n",
    "print(my_set_comprehension)"
   ]
  },
  {
   "cell_type": "markdown",
   "id": "267a43d1",
   "metadata": {},
   "source": [
    "Possibili operazioni di intersezione e unione\n",
    "* `+` : intersezione\n",
    "* `|` : unione"
   ]
  },
  {
   "cell_type": "code",
   "execution_count": 31,
   "id": "274a264d",
   "metadata": {},
   "outputs": [
    {
     "name": "stdout",
     "output_type": "stream",
     "text": [
      "{'b', 'e', 'd', 'a', 'c', 'f'}\n",
      "{'d', 'a'}\n"
     ]
    }
   ],
   "source": [
    "my_first_set = {\"a\",\"b\",\"c\",\"d\"}\n",
    "my_second_set = {\"a\", \"d\", \"e\", \"f\"}\n",
    "\n",
    "print(my_first_set | my_second_set) # Unione\n",
    "print(my_first_set & my_second_set) # Intersezione\n"
   ]
  },
  {
   "cell_type": "markdown",
   "id": "62e0e5d1",
   "metadata": {},
   "source": [
    "## Dizionari\n",
    "Collezione di dati non ordinata e modificabile di tipo chiave : valore.\n",
    "Non sono ammessi valori di chiave duplicati\n"
   ]
  },
  {
   "cell_type": "code",
   "execution_count": 35,
   "id": "4cb68ccc",
   "metadata": {},
   "outputs": [],
   "source": [
    "my_dictionary = {1: \"a\", 2:\"b\", 3:\"c\"}\n",
    "my_other_dictionary = dict([(1,\"a\"), (2, \"b\"), (3, \"c\")])"
   ]
  },
  {
   "cell_type": "markdown",
   "id": "a9ae5a7a",
   "metadata": {},
   "source": [
    "Metodi per tornare elementi del dizionario : \n",
    "* `values()` : ritorna i singoli valori ( senza chiave ) del dizionario\n",
    "* `keys()` : ritorna le singole chiavi del dizionario\n",
    "* `items()` : ritorna delle tuple di contenenti delle chiavi e dei valori"
   ]
  },
  {
   "cell_type": "code",
   "execution_count": 37,
   "id": "7beea3d1",
   "metadata": {},
   "outputs": [
    {
     "name": "stdout",
     "output_type": "stream",
     "text": [
      "Valore a\n",
      "Valore b\n",
      "Valore c\n",
      "Chiave 1\n",
      "Chiave 2\n",
      "Chiave 3\n",
      "Chiave : 1 - Valore : a\n",
      "Chiave : 2 - Valore : b\n",
      "Chiave : 3 - Valore : c\n"
     ]
    }
   ],
   "source": [
    "for x in my_dictionary.values():\n",
    "    print(f\"Valore {x}\")\n",
    "for y in my_dictionary.keys():\n",
    "    print(f\"Chiave {y}\")\n",
    "for k, v in my_dictionary.items():\n",
    "    print(f\"Chiave : {k} - Valore : {v}\")"
   ]
  },
  {
   "cell_type": "markdown",
   "id": "d19c39ac",
   "metadata": {},
   "source": [
    "E' possible accedere ai singoli valori di un dizionario tramite la notazione delle parentesi quadre, specificando in questo caso il valore di una chiave: \n"
   ]
  },
  {
   "cell_type": "code",
   "execution_count": 38,
   "id": "e0ef6862",
   "metadata": {},
   "outputs": [
    {
     "data": {
      "text/plain": [
       "'a'"
      ]
     },
     "execution_count": 38,
     "metadata": {},
     "output_type": "execute_result"
    }
   ],
   "source": [
    "my_dictionary[1]"
   ]
  }
 ],
 "metadata": {
  "kernelspec": {
   "display_name": "Python 3 (ipykernel)",
   "language": "python",
   "name": "python3"
  },
  "language_info": {
   "codemirror_mode": {
    "name": "ipython",
    "version": 3
   },
   "file_extension": ".py",
   "mimetype": "text/x-python",
   "name": "python",
   "nbconvert_exporter": "python",
   "pygments_lexer": "ipython3",
   "version": "3.9.7"
  }
 },
 "nbformat": 4,
 "nbformat_minor": 5
}
