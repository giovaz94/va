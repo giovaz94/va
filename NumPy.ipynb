{
 "cells": [
  {
   "cell_type": "markdown",
   "id": "c5eff934",
   "metadata": {},
   "source": [
    "# NumPy\n",
    "\n",
    "NumPy (Numerical Python) è un package fondamentale per il calcolo scientifico specializzato nel lavorare con vettori e matrici.\n",
    "\n",
    "Python fornisce :\n",
    "* Tipi numerici ad alto livello (int, float, ...).\n",
    "* Strutture dati : tuple, liste, dizionari.\n",
    "\n",
    "Ma non fornisce modalità di lavoro tramite strutture dati che possono accogliere una mole di dati molto elevata.\n",
    "\n",
    "NumPy arricchisce python introducendo:\n",
    "* Una struttura dati array-multidimensionale\n",
    "* Operazioni efficienti per lavorare su array-multidimensionali\n",
    "* Operazioni di algebra lineare\n",
    "\n",
    "\n",
    "Funzioni e operatori agiscono su vettori interi, raramente si adopereranno loop espliciti.\n",
    "Gli elementi contenuti all'interno della struttura dati sono tutti **dello stesso tipo**.\n",
    "Il codice è scritto in C ed è altamente ottimizzato.\n",
    "\n",
    "OpenCV, che permette di elaborare immagini, adopera fortemente NumPy."
   ]
  },
  {
   "cell_type": "code",
   "execution_count": null,
   "id": "55f7e5c6",
   "metadata": {},
   "outputs": [],
   "source": []
  },
  {
   "cell_type": "markdown",
   "id": "569b2532",
   "metadata": {},
   "source": [
    "## Adoperare NumPy\n",
    "\n",
    "NumPy è un modulo ed è convenzione importarlo con l'alias `np`."
   ]
  },
  {
   "cell_type": "code",
   "execution_count": 2,
   "id": "5bdcbfc8",
   "metadata": {},
   "outputs": [
    {
     "name": "stdout",
     "output_type": "stream",
     "text": [
      "1.20.3\n"
     ]
    }
   ],
   "source": [
    "import numpy as np\n",
    "print(np.__version__) # Stampa versione corrente"
   ]
  },
  {
   "cell_type": "markdown",
   "id": "6f12db0b",
   "metadata": {},
   "source": [
    "## Classe ndarray\n",
    "\n",
    "`ndarray` è un tipo di dato che è messo a disposizione dalla libreria che rappresenta un array multidimensionale omogeneo"
   ]
  },
  {
   "cell_type": "code",
   "execution_count": 5,
   "id": "36fd37b1",
   "metadata": {},
   "outputs": [
    {
     "name": "stdout",
     "output_type": "stream",
     "text": [
      "1\n",
      "(3,)\n",
      "3\n",
      "int64\n",
      "8\n",
      "<memory at 0x7f7c7f9a2640>\n"
     ]
    }
   ],
   "source": [
    "x = np.array([1,2,3])\n",
    "print(x.ndim)     # Numero dimensioni (assi)\n",
    "print(x.shape)    # Numero elementi per dimensione\n",
    "print(x.size)     # Numero elementi totale all'interno dell'array\n",
    "print(x.dtype)    # Tipo di tutti gli elementi\n",
    "print(x.itemsize) # Dimensione in byte di ciascun elemento\n",
    "print(x.data)     # Buffer contenente gli elementi"
   ]
  },
  {
   "cell_type": "code",
   "execution_count": 8,
   "id": "5d3c0bf8",
   "metadata": {},
   "outputs": [
    {
     "name": "stdout",
     "output_type": "stream",
     "text": [
      "type:  <class 'numpy.ndarray'>\n",
      "ndim:  2\n",
      "shape: (3, 5)\n",
      "size:  15\n",
      "dtype: int64\n",
      "itemsize: 8\n"
     ]
    }
   ],
   "source": [
    "a = np.array([[0,1,1,2,3], [5,8,13,21,34], [55,89,144,233,377]]) # np.array è il costruttore di default\n",
    "\n",
    "\n",
    "print('type: ', type(a))  \n",
    "print('ndim: ', a.ndim)  \n",
    "print('shape:', a.shape)  \n",
    "print('size: ', a.size)   \n",
    "print('dtype:', a.dtype)\n",
    "print('itemsize:', a.itemsize)"
   ]
  },
  {
   "cell_type": "markdown",
   "id": "cf2caf2b",
   "metadata": {},
   "source": [
    "Il tipo dell'array viene dedotto dagli elementi dell'array oppure può essere specificato nel secondo parametro della funzione ( dtype )\n"
   ]
  },
  {
   "cell_type": "code",
   "execution_count": 11,
   "id": "64cc37a2",
   "metadata": {},
   "outputs": [
    {
     "name": "stdout",
     "output_type": "stream",
     "text": [
      "int64\n",
      "uint8\n"
     ]
    }
   ],
   "source": [
    "a = np.array([1,2,3]) \n",
    "print(a.dtype)\n",
    "a2 = np.array([1,2,3], np.uint8)\n",
    "print(a2.dtype)"
   ]
  },
  {
   "cell_type": "markdown",
   "id": "cf3960da",
   "metadata": {},
   "source": [
    "## Modi alternativi per creare array\n",
    "\n",
    "La funzione empty permette di specificare la shape di un array ed un tipo di dato e alloca un array non inizializzato\n"
   ]
  },
  {
   "cell_type": "code",
   "execution_count": 12,
   "id": "a6197b52",
   "metadata": {},
   "outputs": [
    {
     "name": "stdout",
     "output_type": "stream",
     "text": [
      "[[  0   0   0   0   0   0   0]\n",
      " [  0 126   0   0   0   1   0]]\n"
     ]
    }
   ],
   "source": [
    "a = np.empty((2,7), np.uint8)\n",
    "print(a)"
   ]
  },
  {
   "cell_type": "markdown",
   "id": "c65fa9cd",
   "metadata": {},
   "source": [
    "Zeros / ones funzione come empty ma riempie l'array di zeri o di uno"
   ]
  },
  {
   "cell_type": "code",
   "execution_count": 14,
   "id": "3fde76ee",
   "metadata": {},
   "outputs": [
    {
     "name": "stdout",
     "output_type": "stream",
     "text": [
      "[[0. 0. 0. 0. 0. 0. 0.]\n",
      " [0. 0. 0. 0. 0. 0. 0.]]\n",
      "[[1. 1. 1. 1. 1. 1. 1.]\n",
      " [1. 1. 1. 1. 1. 1. 1.]]\n"
     ]
    }
   ],
   "source": [
    "zr = np.zeros((2,7))\n",
    "ons = np.ones((2,7))\n",
    "print(zr)\n",
    "print(ons)"
   ]
  },
  {
   "cell_type": "markdown",
   "id": "6df6171a",
   "metadata": {},
   "source": [
    "arange crea un array monodimensionale con valori appartenenti ad un array"
   ]
  },
  {
   "cell_type": "code",
   "execution_count": 15,
   "id": "a7035120",
   "metadata": {},
   "outputs": [
    {
     "name": "stdout",
     "output_type": "stream",
     "text": [
      "[100 102 104 106 108]\n"
     ]
    }
   ],
   "source": [
    "a = np.arange(100, 110, 2)\n",
    "print(a)"
   ]
  },
  {
   "cell_type": "markdown",
   "id": "771708c3",
   "metadata": {},
   "source": [
    "identity permette di creare una matrice identità"
   ]
  },
  {
   "cell_type": "code",
   "execution_count": null,
   "id": "c1f2b9e7",
   "metadata": {},
   "outputs": [],
   "source": [
    "ide = np.identity(3)\n",
    "print(ide)"
   ]
  },
  {
   "cell_type": "markdown",
   "id": "0d6dda61",
   "metadata": {},
   "source": [
    "## Tipi numerici\n",
    "NumPy permette di specificare diverse varietà di tipologie di dati. Essendo una libreria scritta in C, tali tipologie corrispondono a quelle del linguaggio C."
   ]
  },
  {
   "cell_type": "markdown",
   "id": "28c39c5c",
   "metadata": {},
   "source": [
    "## Operazioni di base\n",
    "Tutte le operazioni sono **vettoriali**"
   ]
  },
  {
   "cell_type": "code",
   "execution_count": 25,
   "id": "1a5f7606",
   "metadata": {},
   "outputs": [
    {
     "name": "stdout",
     "output_type": "stream",
     "text": [
      "[25 35 47 61]\n",
      "[0 1 4 9]\n",
      "[5. 6. 7. 8.]\n",
      "[ True  True False False]\n",
      "[ True False  True False]\n"
     ]
    }
   ],
   "source": [
    "a = np.array([25,36,49,64])\n",
    "b = np.arange(4)\n",
    "\n",
    "c = a - b          # Sottrazione elemento per elemento\n",
    "print(c)\n",
    "\n",
    "print(b**2)        # Elevamento alla seconda (adopera broadcasting)\n",
    "print(np.sqrt(a))  # Radice quadrata degli elementi di a\n",
    "\n",
    "# Confronti producono array di valori booleani con le stesse \n",
    "# dimensioni dell'array adoperato per i confronti \n",
    "print (a < 37)\n",
    "\n",
    "b = np.array([25,37,49,63])\n",
    "print(a == b)"
   ]
  },
  {
   "cell_type": "markdown",
   "id": "f794ed62",
   "metadata": {},
   "source": [
    "## Prodotto\n",
    "L'operatore di prodotto `*` viene adoperto come **prodotto elemento per elemento** mentre l'opertore `@` è usato per il prodotto fra matrici"
   ]
  },
  {
   "cell_type": "code",
   "execution_count": 28,
   "id": "8605c793",
   "metadata": {},
   "outputs": [
    {
     "name": "stdout",
     "output_type": "stream",
     "text": [
      "[[2 0]\n",
      " [0 4]]\n",
      "\n",
      "[[ 4  0]\n",
      " [18 16]]\n",
      "\n",
      "[[3 0 2]\n",
      " [6 0 4]\n",
      " [9 0 6]]\n",
      "\n",
      "[[9]]\n",
      "\n"
     ]
    }
   ],
   "source": [
    "A = np.array([[1,1], [0,1]])\n",
    "B = np.array([[2,0], [3,4]])\n",
    "\n",
    "\n",
    "print(A * B)      # Prodotto elemento per elemento\n",
    "print()\n",
    "print(B @ B)      # Prodotto matriciale\n",
    "print()\n",
    "\n",
    "c = np.array([[1], [2], [3]])\n",
    "e = np.array([[3,0,2]])\n",
    "\n",
    "print(c @ e)      # (3,1) x (1,3) = (3,3)\n",
    "print()\n",
    "print(e @ c)      # (1,3) x (3,1) = (1,1)\n",
    "print()\n"
   ]
  },
  {
   "cell_type": "markdown",
   "id": "ea294a86",
   "metadata": {},
   "source": [
    "## Type cast\n",
    "Tutti gli elementi di un array numpy sono dello stesso tipo ed è possibile attraverso una serie di funzioni andare a convertire quest'ultimo.\n",
    "In un operazione tra array il tipo è convertito direttamente a quello più generale.\n"
   ]
  },
  {
   "cell_type": "code",
   "execution_count": 32,
   "id": "882ad593",
   "metadata": {},
   "outputs": [
    {
     "name": "stdout",
     "output_type": "stream",
     "text": [
      "int64\n"
     ]
    }
   ],
   "source": [
    "x = np.arange(-5,5,dtype=np.int32)\n",
    "u = np.arange(10, dtype=np.uint32)\n",
    "\n",
    "r = x + u\n",
    "print(r.dtype)"
   ]
  },
  {
   "cell_type": "markdown",
   "id": "a81d8f01",
   "metadata": {},
   "source": [
    "La funzione astype converte direttamente il tipo di un array"
   ]
  },
  {
   "cell_type": "code",
   "execution_count": 33,
   "id": "84e7a8d8",
   "metadata": {},
   "outputs": [
    {
     "data": {
      "text/plain": [
       "array([251, 252, 253, 254, 255,   0,   1,   2,   3,   4], dtype=uint8)"
      ]
     },
     "execution_count": 33,
     "metadata": {},
     "output_type": "execute_result"
    }
   ],
   "source": [
    "x.astype(np.uint8)"
   ]
  },
  {
   "cell_type": "markdown",
   "id": "e67b504d",
   "metadata": {},
   "source": [
    "## Altre operazioni su array \n",
    "\n",
    "* `min()` : Ritorna l'elemento minimo dell'array\n",
    "* `max()` : Ritorna l'lemento massimo dell'array\n",
    "* `sum()` : Ritorna la somma di tutti gli elementi dell'array\n",
    "\n",
    "**Nota:** E' possibile specificare anche se queste operazioni devono essere fatte solamente sulle righe o solamente sulle colonne attraverso il parametro axis (0 = righe, 1 = colonne).\n",
    "\n",
    "\n"
   ]
  },
  {
   "cell_type": "markdown",
   "id": "b22abdea",
   "metadata": {},
   "source": [
    "## Funzioni universali\n",
    "Sono funzioni che lavorano elemento per elemento.\n",
    "\n",
    "Sono:\n",
    "* Operazioni matematiche: sum, subtract, multiply, etc..\n",
    "* Operazioni trigonometriche: sin, cos, tan, etc..\n",
    "* Operazioni bitwise: bitwise_and, bitwise_or, bitwise_not\n",
    "* Operazioni di confronto: greater, greater_equal, less, less_equal, etc...\n",
    "* Operazioni floating point: isfinite, isinf, isnan, fabs, etc.."
   ]
  },
  {
   "cell_type": "markdown",
   "id": "0b3dfc96",
   "metadata": {},
   "source": [
    "## Slicing su array\n",
    "Su array monodimensionale lo slicing funziona esattamente allo stesso modo di quello che si adopera per le tuple e le liste."
   ]
  },
  {
   "cell_type": "code",
   "execution_count": 38,
   "id": "bf1a7a90",
   "metadata": {},
   "outputs": [
    {
     "name": "stdout",
     "output_type": "stream",
     "text": [
      "8\n",
      "[ 8 27 64]\n",
      "[729 512 343 216 125  42  27  42   1  42]\n",
      "[  43    1   69   27  167  125  559  343 1241  729]\n",
      "[-1 -1 -1 -1 -1 -1 -1 -1 -1 -1]\n"
     ]
    }
   ],
   "source": [
    "a = np.arange(10) ** 3\n",
    "print(a[2]) # Accesso al terzo elemento dell'array\n",
    "\n",
    "print(a[2:5]) # Dal terzo elemento al quinto\n",
    "\n",
    "a[:6:2] = 42 # Modifica valore dell'array in determinate posizioni\n",
    "\n",
    "print(a[::-1]) # Ordine inverso\n",
    "\n",
    "a[::2] += a[1::2]\n",
    "print(a)\n",
    "\n",
    "\n",
    "a[:] = -1 # Modifica tutti gli elementi\n",
    "print(a)"
   ]
  },
  {
   "cell_type": "markdown",
   "id": "a905718c",
   "metadata": {},
   "source": [
    "Su array multidimensionali occorre specificare degli indici per ogni dimensione"
   ]
  },
  {
   "cell_type": "code",
   "execution_count": 44,
   "id": "0bfbbaf2",
   "metadata": {},
   "outputs": [
    {
     "name": "stdout",
     "output_type": "stream",
     "text": [
      "[[ 0  1  2  3  4]\n",
      " [10 11 12 13 14]\n",
      " [20 21 22 23 24]]\n",
      "23\n",
      "[ 2 12]\n",
      "[ 1 11 21]\n"
     ]
    }
   ],
   "source": [
    "a = np.fromfunction(lambda i,j : i * 10 + j, (3,5), dtype=int)\n",
    "\n",
    "print(a)\n",
    "print(a[2,3])\n",
    "\n",
    "# Posso usare per ogni dimensione lo slicing\n",
    "print(a[:2,2])\n",
    "\n",
    "# Seleziona tutta la colonna 2\n",
    "print(a[:,1])"
   ]
  },
  {
   "cell_type": "code",
   "execution_count": null,
   "id": "be11bd29",
   "metadata": {},
   "outputs": [],
   "source": []
  }
 ],
 "metadata": {
  "kernelspec": {
   "display_name": "Python 3 (ipykernel)",
   "language": "python",
   "name": "python3"
  },
  "language_info": {
   "codemirror_mode": {
    "name": "ipython",
    "version": 3
   },
   "file_extension": ".py",
   "mimetype": "text/x-python",
   "name": "python",
   "nbconvert_exporter": "python",
   "pygments_lexer": "ipython3",
   "version": "3.9.7"
  }
 },
 "nbformat": 4,
 "nbformat_minor": 5
}
