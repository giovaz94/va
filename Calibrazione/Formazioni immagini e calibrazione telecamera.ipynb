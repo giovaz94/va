{
 "cells": [
  {
   "cell_type": "markdown",
   "id": "8e5ea563",
   "metadata": {},
   "source": [
    "# Formazioneimmagini \n",
    "\n",
    "Il processo di formazione delle immagini è dovuto a raggi di luce che entrano in un sistema ottico e colpiscono un sensore (piano immagine).\n",
    "\n",
    "Nell'occhio umano il sistema ottico è il cristallino mentre il piano immagine è la retina. In una fotocamera il sistema ottioco è la lente e il sensore digitale è il piano immagine.\n",
    "\n",
    "\n",
    "\n",
    "\n",
    "\n",
    "\n"
   ]
  },
  {
   "cell_type": "code",
   "execution_count": null,
   "id": "2c6b653e",
   "metadata": {},
   "outputs": [],
   "source": []
  }
 ],
 "metadata": {
  "kernelspec": {
   "display_name": "Python 3 (ipykernel)",
   "language": "python",
   "name": "python3"
  },
  "language_info": {
   "codemirror_mode": {
    "name": "ipython",
    "version": 3
   },
   "file_extension": ".py",
   "mimetype": "text/x-python",
   "name": "python",
   "nbconvert_exporter": "python",
   "pygments_lexer": "ipython3",
   "version": "3.9.7"
  }
 },
 "nbformat": 4,
 "nbformat_minor": 5
}
